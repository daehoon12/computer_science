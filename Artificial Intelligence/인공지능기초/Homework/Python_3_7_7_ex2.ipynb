{
 "cells": [
  {
   "cell_type": "markdown",
   "metadata": {},
   "source": [
    "# 파이썬 기초 (Optional)"
   ]
  },
  {
   "cell_type": "code",
   "execution_count": 1,
   "metadata": {},
   "outputs": [],
   "source": [
    "import numpy as np"
   ]
  },
  {
   "cell_type": "code",
   "execution_count": 8,
   "metadata": {},
   "outputs": [
    {
     "name": "stdout",
     "output_type": "stream",
     "text": [
      "Hello, World\n",
      "정수 : 1 1 1 1 1\n",
      "문자열 : Hello world\n"
     ]
    }
   ],
   "source": [
    "print (\"Hello, World\")\n",
    "x= 1\n",
    "print(\"정수 : %d %d %d %d %d\" %(x, x, x, x, x))\n",
    "\n",
    "y = \"Hello world\"\n",
    "print(\"문자열 : %s\" %y)"
   ]
  },
  {
   "cell_type": "markdown",
   "metadata": {},
   "source": [
    "# 벡터, 행렬 연산 그래프 그리기"
   ]
  },
  {
   "cell_type": "code",
   "execution_count": 16,
   "metadata": {},
   "outputs": [],
   "source": [
    "def print_val(x):\n",
    "    print (\"Type : \", type(x))\n",
    "    print (\"Shape : \", x.shape)\n",
    "    print (\"값 : \\n\", x)\n",
    "    print (\" \")"
   ]
  },
  {
   "cell_type": "markdown",
   "metadata": {},
   "source": [
    "## Rank 1 np array (Vector)"
   ]
  },
  {
   "cell_type": "code",
   "execution_count": 17,
   "metadata": {},
   "outputs": [
    {
     "name": "stdout",
     "output_type": "stream",
     "text": [
      "Type :  <class 'numpy.ndarray'>\n",
      "Shape :  (3,)\n",
      "값 : \n",
      " [1 2 3]\n",
      " \n",
      "Type :  <class 'numpy.ndarray'>\n",
      "Shape :  (3,)\n",
      "값 : \n",
      " [5 2 3]\n",
      " \n"
     ]
    }
   ],
   "source": [
    "x = np.array([1,2,3]) # 값이 1,2,3인 Vector (1차원 Tensor) 생성\n",
    "print_val(x)\n",
    "\n",
    "x[0]=5 # 인덱스 접근\n",
    "print_val(x)"
   ]
  },
  {
   "cell_type": "markdown",
   "metadata": {},
   "source": [
    "## Rank 2 np array (Matrix)"
   ]
  },
  {
   "cell_type": "code",
   "execution_count": 44,
   "metadata": {},
   "outputs": [
    {
     "name": "stdout",
     "output_type": "stream",
     "text": [
      "Type :  <class 'numpy.ndarray'>\n",
      "Shape :  (2, 3)\n",
      "값 : \n",
      " [[1 2 3]\n",
      " [4 5 6]]\n",
      " \n",
      "Type :  <class 'numpy.ndarray'>\n",
      "Shape :  (1, 3)\n",
      "값 : \n",
      " [[1. 1. 1.]]\n",
      " \n",
      "Type :  <class 'numpy.ndarray'>\n",
      "Shape :  (2, 2)\n",
      "값 : \n",
      " [[0. 0.]\n",
      " [0. 0.]]\n",
      " \n",
      "Type :  <class 'numpy.ndarray'>\n",
      "Shape :  (6, 6)\n",
      "값 : \n",
      " [[1. 0. 0. 0. 0. 0.]\n",
      " [0. 1. 0. 0. 0. 0.]\n",
      " [0. 0. 1. 0. 0. 0.]\n",
      " [0. 0. 0. 1. 0. 0.]\n",
      " [0. 0. 0. 0. 1. 0.]\n",
      " [0. 0. 0. 0. 0. 1.]]\n",
      " \n"
     ]
    }
   ],
   "source": [
    "# Rank 2 np array\n",
    "y = np.array([[1,2,3], [4,5,6]])\n",
    "print_val(y)\n",
    "\n",
    "# Rank 2 ones\n",
    "a = np.ones((1,3)) # 괄호를 쳐준다.. 파라미터가 추가될 때 마다 Rank가 올라감\n",
    "print_val(a)\n",
    "            \n",
    "# Rank 2 zeros\n",
    "a = np.zeros((2,2))\n",
    "print_val(a)\n",
    "\n",
    "# Rank 2 단위 행렬 (Identify Matrix)\n",
    "a = np.eye(6,6)\n",
    "print_val(a)"
   ]
  },
  {
   "cell_type": "code",
   "execution_count": 52,
   "metadata": {},
   "outputs": [
    {
     "name": "stdout",
     "output_type": "stream",
     "text": [
      "Type :  <class 'numpy.ndarray'>\n",
      "Shape :  (4, 4, 2)\n",
      "값 : \n",
      " [[[0.84401523 0.23634825]\n",
      "  [0.37801224 0.69203374]\n",
      "  [0.72522594 0.48162549]\n",
      "  [0.57952716 0.01355877]]\n",
      "\n",
      " [[0.58312166 0.42577333]\n",
      "  [0.87324489 0.67717522]\n",
      "  [0.39061884 0.66435646]\n",
      "  [0.49653876 0.5548708 ]]\n",
      "\n",
      " [[0.09440696 0.77077253]\n",
      "  [0.7395516  0.51039947]\n",
      "  [0.43296351 0.94900786]\n",
      "  [0.12448174 0.59135802]]\n",
      "\n",
      " [[0.99160364 0.29386369]\n",
      "  [0.11757425 0.56959867]\n",
      "  [0.25691411 0.87430973]\n",
      "  [0.30830415 0.79057103]]]\n",
      " \n",
      "Type :  <class 'numpy.ndarray'>\n",
      "Shape :  (4, 4)\n",
      "값 : \n",
      " [[-0.36823628 -0.86708764  1.53161673 -0.46161436]\n",
      " [-0.85415974  0.28403941 -1.8578763   1.97200957]\n",
      " [ 1.00603844 -0.23291908 -0.12779424 -0.17550568]\n",
      " [-0.19999871 -1.6556032  -0.3782147   0.23071092]]\n",
      " \n"
     ]
    }
   ],
   "source": [
    "# 랜덤 행렬 (Uniform)\n",
    "a = np.random.random((4,4,2)) # 튜플 형식으로 넣어야함\n",
    "print_val(a)\n",
    "\n",
    "# 랜덤 행렬 (정규 분포)\n",
    "\n",
    "a = np.random.randn(4,4) \n",
    "print_val(a)"
   ]
  },
  {
   "cell_type": "code",
   "execution_count": 63,
   "metadata": {},
   "outputs": [
    {
     "name": "stdout",
     "output_type": "stream",
     "text": [
      "Type :  <class 'numpy.ndarray'>\n",
      "Shape :  (3, 4)\n",
      "값 : \n",
      " [[ 1  2  3  4]\n",
      " [ 5  6  7  8]\n",
      " [ 9 10 11 12]]\n",
      " \n",
      "Type :  <class 'numpy.ndarray'>\n",
      "Shape :  (2, 2)\n",
      "값 : \n",
      " [[2 3]\n",
      " [6 7]]\n",
      " \n",
      "[5 6 7 8]\n",
      "[ 4  8 12]\n"
     ]
    }
   ],
   "source": [
    "# np array indexing\n",
    "\n",
    "a = np.array([[1,2,3,4],[5,6,7,8],[9,10,11,12]])\n",
    "print_val(a)\n",
    "\n",
    "b = a[:2, 1:3] # 행 0 ~ 1, 열 1 ~ 2\n",
    "print_val(b)\n",
    "\n",
    "row1 = a[1, :] # 1번째 행, :만 쓰면 전체를 가져온다.\n",
    "col1 = a[:, 3]\n",
    "print(row1)\n",
    "print(col1)"
   ]
  },
  {
   "cell_type": "code",
   "execution_count": 66,
   "metadata": {},
   "outputs": [
    {
     "name": "stdout",
     "output_type": "stream",
     "text": [
      "Type :  <class 'numpy.ndarray'>\n",
      "Shape :  (2, 2)\n",
      "값 : \n",
      " [[ 6.  8.]\n",
      " [10. 12.]]\n",
      " \n",
      "Type :  <class 'numpy.ndarray'>\n",
      "Shape :  (2, 2)\n",
      "값 : \n",
      " [[ 6.  8.]\n",
      " [10. 12.]]\n",
      " \n"
     ]
    }
   ],
   "source": [
    "# 행렬의 원소별 계산\n",
    "m1 = np.array([[1,2], [3,4]], dtype=np.float64)\n",
    "m2 = np.array([[5,6], [7,8]], dtype=np.float64)\n",
    "\n",
    "# elementwise sum\n",
    "print_val(m1 + m2)\n",
    "print_val(np.add(m1,m2)) # 둘은 같은 결과"
   ]
  },
  {
   "cell_type": "code",
   "execution_count": 67,
   "metadata": {},
   "outputs": [
    {
     "name": "stdout",
     "output_type": "stream",
     "text": [
      "Type :  <class 'numpy.ndarray'>\n",
      "Shape :  (2, 2)\n",
      "값 : \n",
      " [[-4. -4.]\n",
      " [-4. -4.]]\n",
      " \n",
      "Type :  <class 'numpy.ndarray'>\n",
      "Shape :  (2, 2)\n",
      "값 : \n",
      " [[-4. -4.]\n",
      " [-4. -4.]]\n",
      " \n"
     ]
    }
   ],
   "source": [
    "# elementwise difference\n",
    "\n",
    "print_val(m1 - m2)\n",
    "print_val(np.subtract(m1,m2)) # 둘은 같은 결과"
   ]
  },
  {
   "cell_type": "code",
   "execution_count": 68,
   "metadata": {},
   "outputs": [
    {
     "name": "stdout",
     "output_type": "stream",
     "text": [
      "Type :  <class 'numpy.ndarray'>\n",
      "Shape :  (2, 2)\n",
      "값 : \n",
      " [[ 5. 12.]\n",
      " [21. 32.]]\n",
      " \n",
      "Type :  <class 'numpy.ndarray'>\n",
      "Shape :  (2, 2)\n",
      "값 : \n",
      " [[ 5. 12.]\n",
      " [21. 32.]]\n",
      " \n"
     ]
    }
   ],
   "source": [
    "# elementwise product\n",
    "\n",
    "print_val(m1 * m2)\n",
    "print_val(np.multiply(m1,m2)) # 둘은 같은 결과"
   ]
  },
  {
   "cell_type": "code",
   "execution_count": 69,
   "metadata": {},
   "outputs": [
    {
     "name": "stdout",
     "output_type": "stream",
     "text": [
      "Type :  <class 'numpy.ndarray'>\n",
      "Shape :  (2, 2)\n",
      "값 : \n",
      " [[0.2        0.33333333]\n",
      " [0.42857143 0.5       ]]\n",
      " \n",
      "Type :  <class 'numpy.ndarray'>\n",
      "Shape :  (2, 2)\n",
      "값 : \n",
      " [[0.2        0.33333333]\n",
      " [0.42857143 0.5       ]]\n",
      " \n"
     ]
    }
   ],
   "source": [
    "# elementwise division\n",
    "\n",
    "print_val(m1 / m2)\n",
    "print_val(np.divide(m1,m2)) # 둘은 같은 결과"
   ]
  },
  {
   "cell_type": "code",
   "execution_count": 70,
   "metadata": {},
   "outputs": [
    {
     "name": "stdout",
     "output_type": "stream",
     "text": [
      "Type :  <class 'numpy.ndarray'>\n",
      "Shape :  (2, 2)\n",
      "값 : \n",
      " [[1.         1.41421356]\n",
      " [1.73205081 2.        ]]\n",
      " \n"
     ]
    }
   ],
   "source": [
    "# elementwise square root\n",
    "print_val(np.sqrt(m1))"
   ]
  },
  {
   "cell_type": "code",
   "execution_count": 78,
   "metadata": {},
   "outputs": [
    {
     "name": "stdout",
     "output_type": "stream",
     "text": [
      "Type :  <class 'numpy.ndarray'>\n",
      "Shape :  (2, 2)\n",
      "값 : \n",
      " [[1 2]\n",
      " [3 4]]\n",
      " \n",
      "Type :  <class 'numpy.ndarray'>\n",
      "Shape :  (2, 2)\n",
      "값 : \n",
      " [[5 6]\n",
      " [7 8]]\n",
      " \n",
      "Type :  <class 'numpy.ndarray'>\n",
      "Shape :  (2,)\n",
      "값 : \n",
      " [ 9 10]\n",
      " \n",
      "Type :  <class 'numpy.ndarray'>\n",
      "Shape :  (2,)\n",
      "값 : \n",
      " [11 12]\n",
      " \n"
     ]
    }
   ],
   "source": [
    "m1 = np.array([[1,2],[3,4]]) # (2,2)\n",
    "m2 = np.array([[5,6],[7,8]]) # (2,2)\n",
    "v1 = np.array([9,10]) # (2,1)\n",
    "v2 = np.array([11,12]) # (2,1)\n",
    "\n",
    "print_val(m1)\n",
    "print_val(m2)\n",
    "print_val(v1)\n",
    "print_val(v2)"
   ]
  },
  {
   "cell_type": "code",
   "execution_count": 79,
   "metadata": {},
   "outputs": [
    {
     "name": "stdout",
     "output_type": "stream",
     "text": [
      "Type :  <class 'numpy.int32'>\n",
      "Shape :  ()\n",
      "값 : \n",
      " 219\n",
      " \n"
     ]
    }
   ],
   "source": [
    "# 벡터 - 벡터 연산\n",
    "print_val(v1.dot(v2)) # (1,2) (2,1)의 결과인 (1,1)로 나옴"
   ]
  },
  {
   "cell_type": "code",
   "execution_count": 80,
   "metadata": {},
   "outputs": [
    {
     "name": "stdout",
     "output_type": "stream",
     "text": [
      "Type :  <class 'numpy.ndarray'>\n",
      "Shape :  (2,)\n",
      "값 : \n",
      " [29 67]\n",
      " \n",
      "Type :  <class 'numpy.ndarray'>\n",
      "Shape :  (2,)\n",
      "값 : \n",
      " [29 67]\n",
      " \n"
     ]
    }
   ],
   "source": [
    "# 벡터 - 행렬 연산\n",
    "print_val(m1.dot(v1)) # (2,2) x (2,1) = (2,1)\n",
    "print_val(np.dot(m1, v1)) # 결과는 동일"
   ]
  },
  {
   "cell_type": "code",
   "execution_count": 81,
   "metadata": {},
   "outputs": [
    {
     "name": "stdout",
     "output_type": "stream",
     "text": [
      "Type :  <class 'numpy.ndarray'>\n",
      "Shape :  (2, 2)\n",
      "값 : \n",
      " [[19 22]\n",
      " [43 50]]\n",
      " \n",
      "Type :  <class 'numpy.ndarray'>\n",
      "Shape :  (2, 2)\n",
      "값 : \n",
      " [[19 22]\n",
      " [43 50]]\n",
      " \n"
     ]
    }
   ],
   "source": [
    "# 행렬 - 행렬 연산\n",
    "print_val(m1.dot(m2))\n",
    "print_val(np.dot(m1,m2))# 결과는 동일"
   ]
  },
  {
   "cell_type": "code",
   "execution_count": 82,
   "metadata": {},
   "outputs": [
    {
     "name": "stdout",
     "output_type": "stream",
     "text": [
      "Type :  <class 'numpy.ndarray'>\n",
      "Shape :  (2, 2)\n",
      "값 : \n",
      " [[1 2]\n",
      " [3 4]]\n",
      " \n",
      "Type :  <class 'numpy.ndarray'>\n",
      "Shape :  (2, 2)\n",
      "값 : \n",
      " [[1 3]\n",
      " [2 4]]\n",
      " \n"
     ]
    }
   ],
   "source": [
    "# 전치 행렬\n",
    "print_val(m1)\n",
    "print_val(m1.T)"
   ]
  },
  {
   "cell_type": "code",
   "execution_count": 93,
   "metadata": {},
   "outputs": [
    {
     "name": "stdout",
     "output_type": "stream",
     "text": [
      "Type :  <class 'numpy.int32'>\n",
      "Shape :  ()\n",
      "값 : \n",
      " 10\n",
      " \n",
      "Type :  <class 'numpy.ndarray'>\n",
      "Shape :  (2,)\n",
      "값 : \n",
      " [4 6]\n",
      " \n",
      "Type :  <class 'numpy.ndarray'>\n",
      "Shape :  (2,)\n",
      "값 : \n",
      " [3 7]\n",
      " \n"
     ]
    }
   ],
   "source": [
    "# 합\n",
    "print_val(np.sum(m1))\n",
    "print_val(np.sum(m1, axis=0)) # row가 없어짐\n",
    "print_val(np.sum(m1, axis=1)) # column이 없어짐"
   ]
  },
  {
   "cell_type": "code",
   "execution_count": 94,
   "metadata": {},
   "outputs": [
    {
     "name": "stdout",
     "output_type": "stream",
     "text": [
      "Type :  <class 'numpy.ndarray'>\n",
      "Shape :  (5, 3, 2)\n",
      "값 : \n",
      " [[[3 1]\n",
      "  [2 8]\n",
      "  [6 8]]\n",
      "\n",
      " [[0 6]\n",
      "  [8 3]\n",
      "  [9 2]]\n",
      "\n",
      " [[1 8]\n",
      "  [1 0]\n",
      "  [2 3]]\n",
      "\n",
      " [[4 3]\n",
      "  [2 2]\n",
      "  [9 5]]\n",
      "\n",
      " [[1 0]\n",
      "  [0 7]\n",
      "  [1 5]]]\n",
      " \n",
      "Type :  <class 'numpy.int32'>\n",
      "Shape :  ()\n",
      "값 : \n",
      " 110\n",
      " \n",
      "Type :  <class 'numpy.ndarray'>\n",
      "Shape :  (3, 2)\n",
      "값 : \n",
      " [[ 9 18]\n",
      " [13 20]\n",
      " [27 23]]\n",
      " \n",
      "Type :  <class 'numpy.ndarray'>\n",
      "Shape :  (5, 2)\n",
      "값 : \n",
      " [[11 17]\n",
      " [17 11]\n",
      " [ 4 11]\n",
      " [15 10]\n",
      " [ 2 12]]\n",
      " \n",
      "Type :  <class 'numpy.ndarray'>\n",
      "Shape :  (5, 3)\n",
      "값 : \n",
      " [[ 4 10 14]\n",
      " [ 6 11 11]\n",
      " [ 9  1  5]\n",
      " [ 7  4 14]\n",
      " [ 1  7  6]]\n",
      " \n"
     ]
    }
   ],
   "source": [
    "# 3차원에서는?\n",
    "ex1 = np.random.randint(10, size=(5,3,2)) \n",
    "\n",
    "print_val(ex1)\n",
    "print_val(np.sum(ex1))\n",
    "print_val(np.sum(ex1, axis=0))\n",
    "print_val(np.sum(ex1, axis=1))\n",
    "print_val(np.sum(ex1, axis=2))\n",
    "\n",
    "# 즉 axis에 해당하는 차원이 없어지면서 sum을 수행함."
   ]
  },
  {
   "cell_type": "code",
   "execution_count": 115,
   "metadata": {},
   "outputs": [
    {
     "data": {
      "text/plain": [
       "[<matplotlib.lines.Line2D at 0x211077e4320>]"
      ]
     },
     "execution_count": 115,
     "metadata": {},
     "output_type": "execute_result"
    },
    {
     "data": {
      "image/png": "[encoded data removed]",
      "text/plain": [
       "<Figure size 432x288 with 1 Axes>"
      ]
     },
     "metadata": {
      "needs_background": "light"
     },
     "output_type": "display_data"
    }
   ],
   "source": [
    "# Matplot Library\n",
    "import matplotlib.pyplot as plt\n",
    "\n",
    "# sin 커브\n",
    "\n",
    "x = np.arange(0,10, 0.1) # 0부터 10까지 0.1 간격의 숫자 배열\n",
    "#plt.plot(x)\n",
    "y = np.sin(x)\n",
    "plt.plot(x,y)"
   ]
  },
  {
   "cell_type": "code",
   "execution_count": 117,
   "metadata": {},
   "outputs": [
    {
     "data": {
      "image/png": "[encoded data removed]",
      "text/plain": [
       "<Figure size 432x288 with 1 Axes>"
      ]
     },
     "metadata": {
      "needs_background": "light"
     },
     "output_type": "display_data"
    }
   ],
   "source": [
    "# 한 번에 두 개 그래프 그리기\n",
    "\n",
    "y_sin = np.sin(x)\n",
    "y_cos = np.cos(x)\n",
    "\n",
    "plt.plot(x, y_sin)\n",
    "plt.plot(x, y_cos)\n",
    "plt.xlabel('x axis label')\n",
    "plt.ylabel('y axis label')\n",
    "plt.title('sin and cos') # 제목을 달아줌\n",
    "plt.legend(['sin', 'cos']) # 라벨을 붙여줌\n",
    "\n",
    "plt.show()"
   ]
  },
  {
   "cell_type": "code",
   "execution_count": 118,
   "metadata": {},
   "outputs": [
    {
     "data": {
      "image/png": "[encoded data removed]",
      "text/plain": [
       "<Figure size 432x288 with 2 Axes>"
      ]
     },
     "metadata": {
      "needs_background": "light"
     },
     "output_type": "display_data"
    }
   ],
   "source": [
    "# subplot\n",
    "\n",
    "plt.subplot(2,1,1) # (2,1) 형태 플랏의 첫 번째 자리에 그리겠다\n",
    "plt.plot(x,y_sin)\n",
    "plt.title('sin')\n",
    "\n",
    "plt.subplot(2,1,2) # (2,1) 형태 플랏의 두 번째 자리에 그리겠다\n",
    "plt.plot(x,y_cos)\n",
    "plt.title('cos')\n",
    "\n",
    "plt.show()"
   ]
  },
  {
   "cell_type": "code",
   "execution_count": null,
   "metadata": {},
   "outputs": [],
   "source": []
  }
 ],
 "metadata": {
  "kernelspec": {
   "display_name": "Python 3",
   "language": "python",
   "name": "python3"
  },
  "language_info": {
   "codemirror_mode": {
    "name": "ipython",
    "version": 3
   },
   "file_extension": ".py",
   "mimetype": "text/x-python",
   "name": "python",
   "nbconvert_exporter": "python",
   "pygments_lexer": "ipython3",
   "version": "3.6.10"
  }
 },
 "nbformat": 4,
 "nbformat_minor": 4
}
